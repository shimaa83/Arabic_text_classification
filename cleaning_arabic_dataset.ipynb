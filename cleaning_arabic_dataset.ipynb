{
  "nbformat": 4,
  "nbformat_minor": 0,
  "metadata": {
    "colab": {
      "provenance": [],
      "authorship_tag": "ABX9TyMsjPNYD95T0k2l3JufOvbH",
      "include_colab_link": true
    },
    "kernelspec": {
      "name": "python3",
      "display_name": "Python 3"
    },
    "language_info": {
      "name": "python"
    }
  },
  "cells": [
    {
      "cell_type": "markdown",
      "metadata": {
        "id": "view-in-github",
        "colab_type": "text"
      },
      "source": [
        "<a href=\"https://colab.research.google.com/github/shimaa83/Arabic_text_classification/blob/main/cleaning_arabic_dataset.ipynb\" target=\"_parent\"><img src=\"https://colab.research.google.com/assets/colab-badge.svg\" alt=\"Open In Colab\"/></a>"
      ]
    },
    {
      "cell_type": "code",
      "execution_count": 3,
      "metadata": {
        "colab": {
          "base_uri": "https://localhost:8080/"
        },
        "id": "tB5P2b0dAIwZ",
        "outputId": "c2b511c2-25a1-4090-ec50-84463d308ec5"
      },
      "outputs": [
        {
          "output_type": "stream",
          "name": "stdout",
          "text": [
            "Looking in indexes: https://pypi.org/simple, https://us-python.pkg.dev/colab-wheels/public/simple/\n",
            "Collecting camel-tools\n",
            "  Downloading camel_tools-1.4.1-py3-none-any.whl (114 kB)\n",
            "\u001b[2K     \u001b[90m━━━━━━━━━━━━━━━━━━━━━━━━━━━━━━━━━━━━━━\u001b[0m \u001b[32m114.5/114.5 KB\u001b[0m \u001b[31m11.1 MB/s\u001b[0m eta \u001b[36m0:00:00\u001b[0m\n",
            "\u001b[?25hRequirement already satisfied: pandas in /usr/local/lib/python3.8/dist-packages (from camel-tools) (1.3.5)\n",
            "Requirement already satisfied: dill in /usr/local/lib/python3.8/dist-packages (from camel-tools) (0.3.6)\n",
            "Collecting emoji\n",
            "  Downloading emoji-2.2.0.tar.gz (240 kB)\n",
            "\u001b[2K     \u001b[90m━━━━━━━━━━━━━━━━━━━━━━━━━━━━━━━━━━━━━━\u001b[0m \u001b[32m240.9/240.9 KB\u001b[0m \u001b[31m25.8 MB/s\u001b[0m eta \u001b[36m0:00:00\u001b[0m\n",
            "\u001b[?25h  Preparing metadata (setup.py) ... \u001b[?25l\u001b[?25hdone\n",
            "Requirement already satisfied: cachetools in /usr/local/lib/python3.8/dist-packages (from camel-tools) (5.3.0)\n",
            "Requirement already satisfied: editdistance in /usr/local/lib/python3.8/dist-packages (from camel-tools) (0.5.3)\n",
            "Requirement already satisfied: scipy in /usr/local/lib/python3.8/dist-packages (from camel-tools) (1.7.3)\n",
            "Requirement already satisfied: requests in /usr/local/lib/python3.8/dist-packages (from camel-tools) (2.25.1)\n",
            "Requirement already satisfied: pyrsistent in /usr/local/lib/python3.8/dist-packages (from camel-tools) (0.19.3)\n",
            "Collecting camel-kenlm\n",
            "  Downloading camel-kenlm-2021.12.27.tar.gz (418 kB)\n",
            "\u001b[2K     \u001b[90m━━━━━━━━━━━━━━━━━━━━━━━━━━━━━━━━━━━━━━\u001b[0m \u001b[32m418.2/418.2 KB\u001b[0m \u001b[31m40.5 MB/s\u001b[0m eta \u001b[36m0:00:00\u001b[0m\n",
            "\u001b[?25h  Preparing metadata (setup.py) ... \u001b[?25l\u001b[?25hdone\n",
            "Requirement already satisfied: numpy in /usr/local/lib/python3.8/dist-packages (from camel-tools) (1.21.6)\n",
            "Collecting docopt\n",
            "  Downloading docopt-0.6.2.tar.gz (25 kB)\n",
            "  Preparing metadata (setup.py) ... \u001b[?25l\u001b[?25hdone\n",
            "Requirement already satisfied: scikit-learn in /usr/local/lib/python3.8/dist-packages (from camel-tools) (1.0.2)\n",
            "Requirement already satisfied: torch>=1.3 in /usr/local/lib/python3.8/dist-packages (from camel-tools) (1.13.1+cu116)\n",
            "Requirement already satisfied: tabulate in /usr/local/lib/python3.8/dist-packages (from camel-tools) (0.8.10)\n",
            "Requirement already satisfied: future in /usr/local/lib/python3.8/dist-packages (from camel-tools) (0.16.0)\n",
            "Requirement already satisfied: tqdm in /usr/local/lib/python3.8/dist-packages (from camel-tools) (4.64.1)\n",
            "Requirement already satisfied: six in /usr/local/lib/python3.8/dist-packages (from camel-tools) (1.15.0)\n",
            "Collecting transformers>=3.0.2\n",
            "  Downloading transformers-4.26.1-py3-none-any.whl (6.3 MB)\n",
            "\u001b[2K     \u001b[90m━━━━━━━━━━━━━━━━━━━━━━━━━━━━━━━━━━━━━━━━\u001b[0m \u001b[32m6.3/6.3 MB\u001b[0m \u001b[31m63.8 MB/s\u001b[0m eta \u001b[36m0:00:00\u001b[0m\n",
            "\u001b[?25hRequirement already satisfied: typing-extensions in /usr/local/lib/python3.8/dist-packages (from torch>=1.3->camel-tools) (4.4.0)\n",
            "Requirement already satisfied: packaging>=20.0 in /usr/local/lib/python3.8/dist-packages (from transformers>=3.0.2->camel-tools) (23.0)\n",
            "Collecting huggingface-hub<1.0,>=0.11.0\n",
            "  Downloading huggingface_hub-0.12.0-py3-none-any.whl (190 kB)\n",
            "\u001b[2K     \u001b[90m━━━━━━━━━━━━━━━━━━━━━━━━━━━━━━━━━━━━━━\u001b[0m \u001b[32m190.3/190.3 KB\u001b[0m \u001b[31m21.7 MB/s\u001b[0m eta \u001b[36m0:00:00\u001b[0m\n",
            "\u001b[?25hCollecting tokenizers!=0.11.3,<0.14,>=0.11.1\n",
            "  Downloading tokenizers-0.13.2-cp38-cp38-manylinux_2_17_x86_64.manylinux2014_x86_64.whl (7.6 MB)\n",
            "\u001b[2K     \u001b[90m━━━━━━━━━━━━━━━━━━━━━━━━━━━━━━━━━━━━━━━━\u001b[0m \u001b[32m7.6/7.6 MB\u001b[0m \u001b[31m61.1 MB/s\u001b[0m eta \u001b[36m0:00:00\u001b[0m\n",
            "\u001b[?25hRequirement already satisfied: regex!=2019.12.17 in /usr/local/lib/python3.8/dist-packages (from transformers>=3.0.2->camel-tools) (2022.6.2)\n",
            "Requirement already satisfied: filelock in /usr/local/lib/python3.8/dist-packages (from transformers>=3.0.2->camel-tools) (3.9.0)\n",
            "Requirement already satisfied: pyyaml>=5.1 in /usr/local/lib/python3.8/dist-packages (from transformers>=3.0.2->camel-tools) (6.0)\n",
            "Requirement already satisfied: python-dateutil>=2.7.3 in /usr/local/lib/python3.8/dist-packages (from pandas->camel-tools) (2.8.2)\n",
            "Requirement already satisfied: pytz>=2017.3 in /usr/local/lib/python3.8/dist-packages (from pandas->camel-tools) (2022.7.1)\n",
            "Requirement already satisfied: certifi>=2017.4.17 in /usr/local/lib/python3.8/dist-packages (from requests->camel-tools) (2022.12.7)\n",
            "Requirement already satisfied: chardet<5,>=3.0.2 in /usr/local/lib/python3.8/dist-packages (from requests->camel-tools) (4.0.0)\n",
            "Requirement already satisfied: urllib3<1.27,>=1.21.1 in /usr/local/lib/python3.8/dist-packages (from requests->camel-tools) (1.24.3)\n",
            "Requirement already satisfied: idna<3,>=2.5 in /usr/local/lib/python3.8/dist-packages (from requests->camel-tools) (2.10)\n",
            "Requirement already satisfied: joblib>=0.11 in /usr/local/lib/python3.8/dist-packages (from scikit-learn->camel-tools) (1.2.0)\n",
            "Requirement already satisfied: threadpoolctl>=2.0.0 in /usr/local/lib/python3.8/dist-packages (from scikit-learn->camel-tools) (3.1.0)\n",
            "Building wheels for collected packages: camel-kenlm, docopt, emoji\n",
            "  Building wheel for camel-kenlm (setup.py) ... \u001b[?25l\u001b[?25hdone\n",
            "  Created wheel for camel-kenlm: filename=camel_kenlm-2021.12.27-cp38-cp38-linux_x86_64.whl size=2970827 sha256=d21ea0d224fc8275ab60be7a51bffdee1c1da8aa852660c0ee91fee3c52dc53c\n",
            "  Stored in directory: /root/.cache/pip/wheels/2c/7b/f0/837fcdb48cd99564b1163d90392f350cb933fce3bf122eadcd\n",
            "  Building wheel for docopt (setup.py) ... \u001b[?25l\u001b[?25hdone\n",
            "  Created wheel for docopt: filename=docopt-0.6.2-py2.py3-none-any.whl size=13723 sha256=429f13459791d910dc44907eb75b09a2236d980fac651595502eca2b4f096361\n",
            "  Stored in directory: /root/.cache/pip/wheels/56/ea/58/ead137b087d9e326852a851351d1debf4ada529b6ac0ec4e8c\n",
            "  Building wheel for emoji (setup.py) ... \u001b[?25l\u001b[?25hdone\n",
            "  Created wheel for emoji: filename=emoji-2.2.0-py3-none-any.whl size=234926 sha256=5e3c2160a5881fe7d8d7b8165e4b4bce9b97df6bd8fe6034e65f7b995056b9fe\n",
            "  Stored in directory: /root/.cache/pip/wheels/86/62/9e/a6b27a681abcde69970dbc0326ff51955f3beac72f15696984\n",
            "Successfully built camel-kenlm docopt emoji\n",
            "Installing collected packages: tokenizers, docopt, camel-kenlm, emoji, huggingface-hub, transformers, camel-tools\n",
            "Successfully installed camel-kenlm-2021.12.27 camel-tools-1.4.1 docopt-0.6.2 emoji-2.2.0 huggingface-hub-0.12.0 tokenizers-0.13.2 transformers-4.26.1\n"
          ]
        }
      ],
      "source": [
        "pip install camel-tools"
      ]
    },
    {
      "cell_type": "code",
      "source": [
        "from google.colab import drive\n",
        "drive.mount('/content/drive')"
      ],
      "metadata": {
        "colab": {
          "base_uri": "https://localhost:8080/"
        },
        "id": "_Bn6fxCEBF4g",
        "outputId": "6401b09d-6839-4dfd-a420-eee5ababf439"
      },
      "execution_count": 4,
      "outputs": [
        {
          "output_type": "stream",
          "name": "stdout",
          "text": [
            "Mounted at /content/drive\n"
          ]
        }
      ]
    },
    {
      "cell_type": "code",
      "source": [
        "txt=('/content/drive/MyDrive/nlp/arabictext.txt')"
      ],
      "metadata": {
        "id": "Gnqb3QzUBLaY"
      },
      "execution_count": 5,
      "outputs": []
    },
    {
      "cell_type": "code",
      "source": [
        "text=\"\"\n",
        "with open(txt) as file:\n",
        "  text=file.read()\n",
        "print(text)"
      ],
      "metadata": {
        "colab": {
          "base_uri": "https://localhost:8080/"
        },
        "id": "wmCbihrhBe7_",
        "outputId": "bd31aec0-e2bc-4967-e80f-aa376285e0cc"
      },
      "execution_count": 6,
      "outputs": [
        {
          "output_type": "stream",
          "name": "stdout",
          "text": [
            "أوروبا هي إحدى قارات العالم السبع. وجغرافيًا تعد شبه جزيرة كبيرة تكون الجزء الغربي الممتد من أوراسيا بين جبال الأورال وجبال القوقاز وبحر قزوين من الشرق والمحيط الأطلسي من الغرب والبحار البحر الأبيض المتوسط والبحر الأسود ومنطقة القوقاز من الجنوب والمحيط المتجمد الشمالي من شمال القارة. وتعتبر قارة صغيرة نسبيا مقارنة ببقية القارات لكن قارة أستراليا أصغر منها. إلى جانب حدود أوروبا الجغرافية يعود مفهوم حدود القارة إلى العصور القديمة الكلاسيكية، حيث أصبح مصطلح \"القارة\" جغرافيًّا في المقام الأول ولكنه يشمل أيضًا العناصر الثقافية والسياسية. وكلمة أوربَّا أصلها إغريقي (باليونانيّة: Ευρώπη) وتعني الوجه العريض، تصل مساحة القارة لحوالي 10.180 مليون كم2 (7.1 % من مساحة الأرض). وهي ثالث أكبر قارة من حيث عدد السكان في العالم إذ يزيد عدد سكانها عن 700 مليون نسمة (أي 11 % من سكان الأرض). تمتدُّ روسيا وهي أكبر بلد أوروبي عبر كامل شمال آسيا و40% من أوروبا، في حين تعتبر دولة الفاتيكان أصغر دول القارة. يتفق المؤرخون أن أوروبا، خاصةً في اليونان القديمة وروما القديمة هي مهد الحضارة الغربية المؤثرة على العالم. وقد لعبت أوروبا دورًا بارزًا في الشؤون العالمية بدءاً من القرن الخامس عشر، وخاصة عقب بداية الاستعمار. سيطرت الدول الأوروبية بين القرنين السادس عشر والعشرين، في أوقات مختلفة على الأمريكتين، ومعظم أفريقيا وأوقيانوسيا، وأجزاء كبيرة من آسيا.\n"
          ]
        }
      ]
    },
    {
      "cell_type": "code",
      "source": [
        "#removes diacritization from all words"
      ],
      "metadata": {
        "id": "gcFkKz90EOBO"
      },
      "execution_count": null,
      "outputs": []
    },
    {
      "cell_type": "code",
      "source": [
        "from camel_tools.utils.dediac import dediac_ar\n",
        "dediac_sent = dediac_ar(text)\n",
        "print(dediac_sent)"
      ],
      "metadata": {
        "colab": {
          "base_uri": "https://localhost:8080/"
        },
        "id": "DgUyUHRSEQ9n",
        "outputId": "23852bac-341a-4d90-924e-bb0be4a59934"
      },
      "execution_count": 7,
      "outputs": [
        {
          "output_type": "stream",
          "name": "stdout",
          "text": [
            "أوروبا هي إحدى قارات العالم السبع. وجغرافيا تعد شبه جزيرة كبيرة تكون الجزء الغربي الممتد من أوراسيا بين جبال الأورال وجبال القوقاز وبحر قزوين من الشرق والمحيط الأطلسي من الغرب والبحار البحر الأبيض المتوسط والبحر الأسود ومنطقة القوقاز من الجنوب والمحيط المتجمد الشمالي من شمال القارة. وتعتبر قارة صغيرة نسبيا مقارنة ببقية القارات لكن قارة أستراليا أصغر منها. إلى جانب حدود أوروبا الجغرافية يعود مفهوم حدود القارة إلى العصور القديمة الكلاسيكية، حيث أصبح مصطلح \"القارة\" جغرافيا في المقام الأول ولكنه يشمل أيضا العناصر الثقافية والسياسية. وكلمة أوربا أصلها إغريقي (باليونانية: Ευρώπη) وتعني الوجه العريض، تصل مساحة القارة لحوالي 10.180 مليون كم2 (7.1 % من مساحة الأرض). وهي ثالث أكبر قارة من حيث عدد السكان في العالم إذ يزيد عدد سكانها عن 700 مليون نسمة (أي 11 % من سكان الأرض). تمتد روسيا وهي أكبر بلد أوروبي عبر كامل شمال آسيا و40% من أوروبا، في حين تعتبر دولة الفاتيكان أصغر دول القارة. يتفق المؤرخون أن أوروبا، خاصة في اليونان القديمة وروما القديمة هي مهد الحضارة الغربية المؤثرة على العالم. وقد لعبت أوروبا دورا بارزا في الشؤون العالمية بدءا من القرن الخامس عشر، وخاصة عقب بداية الاستعمار. سيطرت الدول الأوروبية بين القرنين السادس عشر والعشرين، في أوقات مختلفة على الأمريكتين، ومعظم أفريقيا وأوقيانوسيا، وأجزاء كبيرة من آسيا.\n"
          ]
        }
      ]
    },
    {
      "cell_type": "code",
      "source": [
        "#remove all noises from the text (punctuation mark and links)"
      ],
      "metadata": {
        "id": "Ke4wuDQMCEXL"
      },
      "execution_count": null,
      "outputs": []
    },
    {
      "cell_type": "code",
      "source": [
        "def removePunctuation (texts):\n",
        "    import re\n",
        "    ## replace arabic specific punctuation\n",
        "    texts = re.sub('\\u060c|\\u061b|\\u061f|\\u066c|\\u066d|\\u06d4|\\u06dd|\\u06de|\\u06e9',' ',texts)\n",
        "    ## replace other junk characters that sometimes show up\n",
        "    texts = re.sub('[\\u200C-\\u200F]|&nbsp|~|\\u2018|\\u2022|\\u2013|\\u2026|\\u201c|\\u201d|\\u2019|\\ufd3e|\\ufd3f',' ',texts)\n",
        "    texts = re.sub('\\xbb|\\xab|\\xf7|\\xb7',' ', texts)\n",
        "    ## remove general punctuation\n",
        "    texts = re.sub(',|/|`|\\$|\\.|\\^|\\*|\\+|\\?|\\{|\\|\\}|\\!|\\\\|\\[|\\]|\\:|\\||\\}|\\<|\\>|\\#|\\%|\\(|\\)|\\@|\\&|\\-|_|\\=|\\[|\\\\\\\\|\\;|\\'|\\\"',' ',texts)\n",
        "    return texts "
      ],
      "metadata": {
        "id": "JUGpOTPAWl5w"
      },
      "execution_count": 26,
      "outputs": []
    },
    {
      "cell_type": "code",
      "source": [
        "txt3=removePunctuation(dediac_sent)\n",
        "print(txt3)"
      ],
      "metadata": {
        "colab": {
          "base_uri": "https://localhost:8080/"
        },
        "id": "RPFQhmoDXVHA",
        "outputId": "2152954d-979e-4680-a6a1-87fd2d9acc91"
      },
      "execution_count": 10,
      "outputs": [
        {
          "output_type": "stream",
          "name": "stdout",
          "text": [
            "أوروبا هي إحدى قارات العالم السبع  وجغرافيا تعد شبه جزيرة كبيرة تكون الجزء الغربي الممتد من أوراسيا بين جبال الأورال وجبال القوقاز وبحر قزوين من الشرق والمحيط الأطلسي من الغرب والبحار البحر الأبيض المتوسط والبحر الأسود ومنطقة القوقاز من الجنوب والمحيط المتجمد الشمالي من شمال القارة  وتعتبر قارة صغيرة نسبيا مقارنة ببقية القارات لكن قارة أستراليا أصغر منها  إلى جانب حدود أوروبا الجغرافية يعود مفهوم حدود القارة إلى العصور القديمة الكلاسيكية  حيث أصبح مصطلح  القارة  جغرافيا في المقام الأول ولكنه يشمل أيضا العناصر الثقافية والسياسية  وكلمة أوربا أصلها إغريقي  باليونانية  Ευρώπη  وتعني الوجه العريض  تصل مساحة القارة لحوالي 10 180 مليون كم2  7 1   من مساحة الأرض   وهي ثالث أكبر قارة من حيث عدد السكان في العالم إذ يزيد عدد سكانها عن 700 مليون نسمة  أي 11   من سكان الأرض   تمتد روسيا وهي أكبر بلد أوروبي عبر كامل شمال آسيا و40  من أوروبا  في حين تعتبر دولة الفاتيكان أصغر دول القارة  يتفق المؤرخون أن أوروبا  خاصة في اليونان القديمة وروما القديمة هي مهد الحضارة الغربية المؤثرة على العالم  وقد لعبت أوروبا دورا بارزا في الشؤون العالمية بدءا من القرن الخامس عشر  وخاصة عقب بداية الاستعمار  سيطرت الدول الأوروبية بين القرنين السادس عشر والعشرين  في أوقات مختلفة على الأمريكتين  ومعظم أفريقيا وأوقيانوسيا  وأجزاء كبيرة من آسيا \n"
          ]
        }
      ]
    },
    {
      "cell_type": "code",
      "source": [
        "import camel_tools.tokenizers.word\n",
        "token=camel_tools.tokenizers.word.simple_word_tokenize(txt3)\n",
        "print(token)"
      ],
      "metadata": {
        "colab": {
          "base_uri": "https://localhost:8080/"
        },
        "id": "Lhd5Pj54FTQH",
        "outputId": "32cf882b-52aa-48a8-c6d8-635545677844"
      },
      "execution_count": 12,
      "outputs": [
        {
          "output_type": "stream",
          "name": "stdout",
          "text": [
            "['أوروبا', 'هي', 'إحدى', 'قارات', 'العالم', 'السبع', 'وجغرافيا', 'تعد', 'شبه', 'جزيرة', 'كبيرة', 'تكون', 'الجزء', 'الغربي', 'الممتد', 'من', 'أوراسيا', 'بين', 'جبال', 'الأورال', 'وجبال', 'القوقاز', 'وبحر', 'قزوين', 'من', 'الشرق', 'والمحيط', 'الأطلسي', 'من', 'الغرب', 'والبحار', 'البحر', 'الأبيض', 'المتوسط', 'والبحر', 'الأسود', 'ومنطقة', 'القوقاز', 'من', 'الجنوب', 'والمحيط', 'المتجمد', 'الشمالي', 'من', 'شمال', 'القارة', 'وتعتبر', 'قارة', 'صغيرة', 'نسبيا', 'مقارنة', 'ببقية', 'القارات', 'لكن', 'قارة', 'أستراليا', 'أصغر', 'منها', 'إلى', 'جانب', 'حدود', 'أوروبا', 'الجغرافية', 'يعود', 'مفهوم', 'حدود', 'القارة', 'إلى', 'العصور', 'القديمة', 'الكلاسيكية', 'حيث', 'أصبح', 'مصطلح', 'القارة', 'جغرافيا', 'في', 'المقام', 'الأول', 'ولكنه', 'يشمل', 'أيضا', 'العناصر', 'الثقافية', 'والسياسية', 'وكلمة', 'أوربا', 'أصلها', 'إغريقي', 'باليونانية', 'Ευρώπη', 'وتعني', 'الوجه', 'العريض', 'تصل', 'مساحة', 'القارة', 'لحوالي', '10', '180', 'مليون', 'كم2', '7', '1', 'من', 'مساحة', 'الأرض', 'وهي', 'ثالث', 'أكبر', 'قارة', 'من', 'حيث', 'عدد', 'السكان', 'في', 'العالم', 'إذ', 'يزيد', 'عدد', 'سكانها', 'عن', '700', 'مليون', 'نسمة', 'أي', '11', 'من', 'سكان', 'الأرض', 'تمتد', 'روسيا', 'وهي', 'أكبر', 'بلد', 'أوروبي', 'عبر', 'كامل', 'شمال', 'آسيا', 'و40', 'من', 'أوروبا', 'في', 'حين', 'تعتبر', 'دولة', 'الفاتيكان', 'أصغر', 'دول', 'القارة', 'يتفق', 'المؤرخون', 'أن', 'أوروبا', 'خاصة', 'في', 'اليونان', 'القديمة', 'وروما', 'القديمة', 'هي', 'مهد', 'الحضارة', 'الغربية', 'المؤثرة', 'على', 'العالم', 'وقد', 'لعبت', 'أوروبا', 'دورا', 'بارزا', 'في', 'الشؤون', 'العالمية', 'بدءا', 'من', 'القرن', 'الخامس', 'عشر', 'وخاصة', 'عقب', 'بداية', 'الاستعمار', 'سيطرت', 'الدول', 'الأوروبية', 'بين', 'القرنين', 'السادس', 'عشر', 'والعشرين', 'في', 'أوقات', 'مختلفة', 'على', 'الأمريكتين', 'ومعظم', 'أفريقيا', 'وأوقيانوسيا', 'وأجزاء', 'كبيرة', 'من', 'آسيا']\n"
          ]
        }
      ]
    },
    {
      "cell_type": "code",
      "source": [
        "#remove stop words\n",
        "#take token words "
      ],
      "metadata": {
        "id": "16-ES-hyGeM-"
      },
      "execution_count": 13,
      "outputs": []
    },
    {
      "cell_type": "code",
      "source": [
        "def removing_ar_stopwords(words):\n",
        "    \"\"\"\n",
        "        Here we remove all Arabic stop words\n",
        "        \n",
        "    \"\"\"\n",
        "    ar_stopwords_list = open(\"/content/drive/MyDrive/nlp/list.txt\", \"r\") \n",
        "    stop_words = ar_stopwords_list.read().split(\"\\n\")\n",
        "    original_words = []\n",
        "    for word in words:\n",
        "        if word not in stop_words:\n",
        "            original_words.append(word)\n",
        "    filtered_sentence = \" \".join(original_words)\n",
        "    return filtered_sentence"
      ],
      "metadata": {
        "id": "zHtCk5oYGiyJ"
      },
      "execution_count": 24,
      "outputs": []
    },
    {
      "cell_type": "code",
      "source": [
        "txt4=removing_ar_stopwords(token)\n",
        "print(txt4)"
      ],
      "metadata": {
        "colab": {
          "base_uri": "https://localhost:8080/"
        },
        "id": "NbT__C0naj4E",
        "outputId": "5510bf6a-db10-4476-e40b-e68aa3ce35f4"
      },
      "execution_count": 25,
      "outputs": [
        {
          "output_type": "stream",
          "name": "stdout",
          "text": [
            "أوروبا قارات العالم السبع وجغرافيا تعد جزيرة كبيرة الجزء الغربي الممتد أوراسيا جبال الأورال وجبال القوقاز وبحر قزوين الشرق والمحيط الأطلسي الغرب والبحار البحر الأبيض المتوسط والبحر الأسود ومنطقة القوقاز الجنوب والمحيط المتجمد الشمالي القارة وتعتبر قارة صغيرة نسبيا مقارنة ببقية القارات قارة أستراليا أصغر جانب حدود أوروبا الجغرافية يعود مفهوم حدود القارة العصور القديمة الكلاسيكية مصطلح القارة جغرافيا المقام الأول ولكنه يشمل العناصر الثقافية والسياسية وكلمة أوربا أصلها إغريقي باليونانية Ευρώπη وتعني الوجه العريض تصل مساحة القارة لحوالي 10 180 كم2 7 1 مساحة الأرض أكبر قارة السكان العالم يزيد سكانها 700 نسمة 11 سكان الأرض تمتد روسيا أكبر بلد أوروبي عبر كامل آسيا و40 أوروبا تعتبر دولة الفاتيكان أصغر دول القارة يتفق المؤرخون أوروبا اليونان القديمة وروما القديمة مهد الحضارة الغربية المؤثرة العالم لعبت أوروبا دورا بارزا الشؤون العالمية بدءا القرن الخامس وخاصة عقب بداية الاستعمار سيطرت الدول الأوروبية القرنين السادس والعشرين أوقات مختلفة الأمريكتين ومعظم أفريقيا وأوقيانوسيا وأجزاء كبيرة آسيا\n"
          ]
        }
      ]
    },
    {
      "cell_type": "code",
      "source": [
        "import camel_tools.utils.normalize \n",
        "txt5=camel_tools.utils.normalize.normalize_alef_ar(txt4)\n",
        "print(txt5)\n",
        "txt6=camel_tools.utils.normalize.normalize_teh_marbuta_ar(txt5)\n",
        "print(txt6)\n",
        "\n",
        "\n"
      ],
      "metadata": {
        "colab": {
          "base_uri": "https://localhost:8080/"
        },
        "id": "sDBurcV6cE3U",
        "outputId": "9d4d179b-4759-49d2-ccbb-a329c5b45d97"
      },
      "execution_count": 31,
      "outputs": [
        {
          "output_type": "stream",
          "name": "stdout",
          "text": [
            "اوروبا قارات العالم السبع وجغرافيا تعد جزيرة كبيرة الجزء الغربي الممتد اوراسيا جبال الاورال وجبال القوقاز وبحر قزوين الشرق والمحيط الاطلسي الغرب والبحار البحر الابيض المتوسط والبحر الاسود ومنطقة القوقاز الجنوب والمحيط المتجمد الشمالي القارة وتعتبر قارة صغيرة نسبيا مقارنة ببقية القارات قارة استراليا اصغر جانب حدود اوروبا الجغرافية يعود مفهوم حدود القارة العصور القديمة الكلاسيكية مصطلح القارة جغرافيا المقام الاول ولكنه يشمل العناصر الثقافية والسياسية وكلمة اوربا اصلها اغريقي باليونانية Ευρώπη وتعني الوجه العريض تصل مساحة القارة لحوالي 10 180 كم2 7 1 مساحة الارض اكبر قارة السكان العالم يزيد سكانها 700 نسمة 11 سكان الارض تمتد روسيا اكبر بلد اوروبي عبر كامل اسيا و40 اوروبا تعتبر دولة الفاتيكان اصغر دول القارة يتفق المؤرخون اوروبا اليونان القديمة وروما القديمة مهد الحضارة الغربية المؤثرة العالم لعبت اوروبا دورا بارزا الشؤون العالمية بدءا القرن الخامس وخاصة عقب بداية الاستعمار سيطرت الدول الاوروبية القرنين السادس والعشرين اوقات مختلفة الامريكتين ومعظم افريقيا واوقيانوسيا واجزاء كبيرة اسيا\n",
            "اوروبا قارات العالم السبع وجغرافيا تعد جزيره كبيره الجزء الغربي الممتد اوراسيا جبال الاورال وجبال القوقاز وبحر قزوين الشرق والمحيط الاطلسي الغرب والبحار البحر الابيض المتوسط والبحر الاسود ومنطقه القوقاز الجنوب والمحيط المتجمد الشمالي القاره وتعتبر قاره صغيره نسبيا مقارنه ببقيه القارات قاره استراليا اصغر جانب حدود اوروبا الجغرافيه يعود مفهوم حدود القاره العصور القديمه الكلاسيكيه مصطلح القاره جغرافيا المقام الاول ولكنه يشمل العناصر الثقافيه والسياسيه وكلمه اوربا اصلها اغريقي باليونانيه Ευρώπη وتعني الوجه العريض تصل مساحه القاره لحوالي 10 180 كم2 7 1 مساحه الارض اكبر قاره السكان العالم يزيد سكانها 700 نسمه 11 سكان الارض تمتد روسيا اكبر بلد اوروبي عبر كامل اسيا و40 اوروبا تعتبر دوله الفاتيكان اصغر دول القاره يتفق المؤرخون اوروبا اليونان القديمه وروما القديمه مهد الحضاره الغربيه المؤثره العالم لعبت اوروبا دورا بارزا الشؤون العالميه بدءا القرن الخامس وخاصه عقب بدايه الاستعمار سيطرت الدول الاوروبيه القرنين السادس والعشرين اوقات مختلفه الامريكتين ومعظم افريقيا واوقيانوسيا واجزاء كبيره اسيا\n"
          ]
        }
      ]
    }
  ]
}